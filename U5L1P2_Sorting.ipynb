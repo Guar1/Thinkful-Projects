{
  "nbformat": 4,
  "nbformat_minor": 0,
  "metadata": {
    "colab": {
      "name": "U5L1P2 - Sorting.ipynb",
      "version": "0.3.2",
      "provenance": []
    },
    "kernelspec": {
      "display_name": "Python 3",
      "language": "python",
      "name": "python3"
    }
  },
  "cells": [
    {
      "metadata": {
        "id": "rjiq5zcHv4_l",
        "colab_type": "code",
        "colab": {}
      },
      "cell_type": "code",
      "source": [
        "def heapify (array, n, i):\n",
        "    #Define function that heapifies an array of length n where i is the root.\n",
        "    largest = i\n",
        "    left = 2*i+1\n",
        "    #indices start at 0 so we add 1 to get the left child\n",
        "    right = 2*i+2\n",
        "    #and +2 to get the right child\n",
        "    if left < n and array[largest] < array[left]:\n",
        "        largest = left\n",
        "    if right < n and array[largest] < array[right]:\n",
        "        largest = right\n",
        "    if largest != i:\n",
        "        array[i], array[largest] = array[largest], array[i]\n",
        "        heapify(array, n, largest)\n",
        "        \n",
        "def heapsort(array):\n",
        "    n = len(array)\n",
        "    for i in range (n, -1, -1):\n",
        "        heapify(array, n, i)\n",
        "        #returns the maximum number after running through heapify\n",
        "    for i in range (n-1, 0, -1):\n",
        "        array[i], array[0] = array[0], array[i]\n",
        "        heapify(array, i, 0)\n",
        "    for i in range (n):\n",
        "        print('%d'%array[i])\n",
        "\n",
        "\n"
      ],
      "execution_count": 0,
      "outputs": []
    },
    {
      "metadata": {
        "id": "wpAsoNwGv4_t",
        "colab_type": "code",
        "colab": {
          "base_uri": "https://localhost:8080/",
          "height": 156
        },
        "outputId": "69c977fe-f799-402b-a418-2647132158fa"
      },
      "cell_type": "code",
      "source": [
        "start = time.time()\n",
        "array = [100, 200, 30, 2, 11, 23, 19]\n",
        "heapsort(array)\n",
        "print(time.time()-start)"
      ],
      "execution_count": 72,
      "outputs": [
        {
          "output_type": "stream",
          "text": [
            "2\n",
            "11\n",
            "19\n",
            "23\n",
            "30\n",
            "100\n",
            "200\n",
            "0.001874685287475586\n"
          ],
          "name": "stdout"
        }
      ]
    },
    {
      "metadata": {
        "id": "aGRWnUT88WbB",
        "colab_type": "code",
        "colab": {}
      },
      "cell_type": "code",
      "source": [
        ""
      ],
      "execution_count": 0,
      "outputs": []
    },
    {
      "metadata": {
        "id": "zoGizJnL8W3y",
        "colab_type": "text"
      },
      "cell_type": "markdown",
      "source": [
        "Selection sort finds the min in a list and adds that value to another list. Going to find the index of a min value in a list and then use .pop() to add it to a sorted list and remove it from original list"
      ]
    },
    {
      "metadata": {
        "id": "9UVdSEJuv4_z",
        "colab_type": "code",
        "colab": {}
      },
      "cell_type": "code",
      "source": [
        "def selectionsort(array):\n",
        "  n=len(array)\n",
        "  sortedarray = []\n",
        "  while n > 0:\n",
        "    minindex = array.index(min(array))\n",
        "    sortedarray.append(array.pop(minindex))\n",
        "    n = n-1\n",
        "  print(sortedarray)\n",
        "    \n",
        "\n",
        "  "
      ],
      "execution_count": 0,
      "outputs": []
    },
    {
      "metadata": {
        "id": "KrYk5Utj6BO-",
        "colab_type": "code",
        "colab": {
          "base_uri": "https://localhost:8080/",
          "height": 52
        },
        "outputId": "12e27cae-cda4-405b-af2b-54fdf6fe43ba"
      },
      "cell_type": "code",
      "source": [
        "import time\n",
        "start = time.time()\n",
        "array = [100, 200, 30, 2, 11, 23, 19]\n",
        "\n",
        "selectionsort(array)\n",
        "print(time.time()-start)"
      ],
      "execution_count": 77,
      "outputs": [
        {
          "output_type": "stream",
          "text": [
            "[2, 11, 19, 23, 30, 100, 200]\n",
            "0.0001850128173828125\n"
          ],
          "name": "stdout"
        }
      ]
    },
    {
      "metadata": {
        "id": "EKoSkvCL8i9B",
        "colab_type": "code",
        "colab": {}
      },
      "cell_type": "code",
      "source": [
        ""
      ],
      "execution_count": 0,
      "outputs": []
    }
  ]
}