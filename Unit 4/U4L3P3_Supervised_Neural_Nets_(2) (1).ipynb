{
  "nbformat": 4,
  "nbformat_minor": 0,
  "metadata": {
    "colab": {
      "name": "U4L3P3 - Supervised Neural Nets (2).ipynb",
      "version": "0.3.2",
      "provenance": []
    },
    "kernelspec": {
      "display_name": "Python 3",
      "language": "python",
      "name": "python3"
    }
  },
  "cells": [
    {
      "metadata": {
        "id": "VYciDHu-2-wV",
        "colab_type": "code",
        "colab": {}
      },
      "cell_type": "code",
      "source": [
        "import numpy as np\n",
        "import pandas as pd\n",
        "import matplotlib.pyplot as plt\n",
        "from sklearn.model_selection import train_test_split, cross_val_score\n",
        "from sklearn.metrics import classification_report"
      ],
      "execution_count": 0,
      "outputs": []
    },
    {
      "metadata": {
        "id": "UPMtCXLd2-wp",
        "colab_type": "code",
        "colab": {}
      },
      "cell_type": "code",
      "source": [
        "artworks = pd.read_csv('https://media.githubusercontent.com/media/MuseumofModernArt/collection/master/Artworks.csv')"
      ],
      "execution_count": 0,
      "outputs": []
    },
    {
      "metadata": {
        "id": "6SGrsxEA2-w7",
        "colab_type": "code",
        "outputId": "63b354e6-723b-4ec8-bfd6-20dae2ebaf72",
        "colab": {
          "base_uri": "https://localhost:8080/",
          "height": 615
        }
      },
      "cell_type": "code",
      "source": [
        "artworks.head()"
      ],
      "execution_count": 0,
      "outputs": [
        {
          "output_type": "execute_result",
          "data": {
            "text/html": [
              "<div>\n",
              "<style scoped>\n",
              "    .dataframe tbody tr th:only-of-type {\n",
              "        vertical-align: middle;\n",
              "    }\n",
              "\n",
              "    .dataframe tbody tr th {\n",
              "        vertical-align: top;\n",
              "    }\n",
              "\n",
              "    .dataframe thead th {\n",
              "        text-align: right;\n",
              "    }\n",
              "</style>\n",
              "<table border=\"1\" class=\"dataframe\">\n",
              "  <thead>\n",
              "    <tr style=\"text-align: right;\">\n",
              "      <th></th>\n",
              "      <th>Title</th>\n",
              "      <th>Artist</th>\n",
              "      <th>ConstituentID</th>\n",
              "      <th>ArtistBio</th>\n",
              "      <th>Nationality</th>\n",
              "      <th>BeginDate</th>\n",
              "      <th>EndDate</th>\n",
              "      <th>Gender</th>\n",
              "      <th>Date</th>\n",
              "      <th>Medium</th>\n",
              "      <th>...</th>\n",
              "      <th>ThumbnailURL</th>\n",
              "      <th>Circumference (cm)</th>\n",
              "      <th>Depth (cm)</th>\n",
              "      <th>Diameter (cm)</th>\n",
              "      <th>Height (cm)</th>\n",
              "      <th>Length (cm)</th>\n",
              "      <th>Weight (kg)</th>\n",
              "      <th>Width (cm)</th>\n",
              "      <th>Seat Height (cm)</th>\n",
              "      <th>Duration (sec.)</th>\n",
              "    </tr>\n",
              "  </thead>\n",
              "  <tbody>\n",
              "    <tr>\n",
              "      <th>0</th>\n",
              "      <td>Ferdinandsbrücke Project, Vienna, Austria, Ele...</td>\n",
              "      <td>Otto Wagner</td>\n",
              "      <td>6210</td>\n",
              "      <td>(Austrian, 1841–1918)</td>\n",
              "      <td>(Austrian)</td>\n",
              "      <td>(1841)</td>\n",
              "      <td>(1918)</td>\n",
              "      <td>(Male)</td>\n",
              "      <td>1896</td>\n",
              "      <td>Ink and cut-and-pasted painted pages on paper</td>\n",
              "      <td>...</td>\n",
              "      <td>http://www.moma.org/media/W1siZiIsIjU5NDA1Il0s...</td>\n",
              "      <td>NaN</td>\n",
              "      <td>NaN</td>\n",
              "      <td>NaN</td>\n",
              "      <td>48.6000</td>\n",
              "      <td>NaN</td>\n",
              "      <td>NaN</td>\n",
              "      <td>168.9000</td>\n",
              "      <td>NaN</td>\n",
              "      <td>NaN</td>\n",
              "    </tr>\n",
              "    <tr>\n",
              "      <th>1</th>\n",
              "      <td>City of Music, National Superior Conservatory ...</td>\n",
              "      <td>Christian de Portzamparc</td>\n",
              "      <td>7470</td>\n",
              "      <td>(French, born 1944)</td>\n",
              "      <td>(French)</td>\n",
              "      <td>(1944)</td>\n",
              "      <td>(0)</td>\n",
              "      <td>(Male)</td>\n",
              "      <td>1987</td>\n",
              "      <td>Paint and colored pencil on print</td>\n",
              "      <td>...</td>\n",
              "      <td>http://www.moma.org/media/W1siZiIsIjk3Il0sWyJw...</td>\n",
              "      <td>NaN</td>\n",
              "      <td>NaN</td>\n",
              "      <td>NaN</td>\n",
              "      <td>40.6401</td>\n",
              "      <td>NaN</td>\n",
              "      <td>NaN</td>\n",
              "      <td>29.8451</td>\n",
              "      <td>NaN</td>\n",
              "      <td>NaN</td>\n",
              "    </tr>\n",
              "    <tr>\n",
              "      <th>2</th>\n",
              "      <td>Villa near Vienna Project, Outside Vienna, Aus...</td>\n",
              "      <td>Emil Hoppe</td>\n",
              "      <td>7605</td>\n",
              "      <td>(Austrian, 1876–1957)</td>\n",
              "      <td>(Austrian)</td>\n",
              "      <td>(1876)</td>\n",
              "      <td>(1957)</td>\n",
              "      <td>(Male)</td>\n",
              "      <td>1903</td>\n",
              "      <td>Graphite, pen, color pencil, ink, and gouache ...</td>\n",
              "      <td>...</td>\n",
              "      <td>http://www.moma.org/media/W1siZiIsIjk4Il0sWyJw...</td>\n",
              "      <td>NaN</td>\n",
              "      <td>NaN</td>\n",
              "      <td>NaN</td>\n",
              "      <td>34.3000</td>\n",
              "      <td>NaN</td>\n",
              "      <td>NaN</td>\n",
              "      <td>31.8000</td>\n",
              "      <td>NaN</td>\n",
              "      <td>NaN</td>\n",
              "    </tr>\n",
              "    <tr>\n",
              "      <th>3</th>\n",
              "      <td>The Manhattan Transcripts Project, New York, N...</td>\n",
              "      <td>Bernard Tschumi</td>\n",
              "      <td>7056</td>\n",
              "      <td>(French and Swiss, born Switzerland 1944)</td>\n",
              "      <td>()</td>\n",
              "      <td>(1944)</td>\n",
              "      <td>(0)</td>\n",
              "      <td>(Male)</td>\n",
              "      <td>1980</td>\n",
              "      <td>Photographic reproduction with colored synthet...</td>\n",
              "      <td>...</td>\n",
              "      <td>http://www.moma.org/media/W1siZiIsIjEyNCJdLFsi...</td>\n",
              "      <td>NaN</td>\n",
              "      <td>NaN</td>\n",
              "      <td>NaN</td>\n",
              "      <td>50.8000</td>\n",
              "      <td>NaN</td>\n",
              "      <td>NaN</td>\n",
              "      <td>50.8000</td>\n",
              "      <td>NaN</td>\n",
              "      <td>NaN</td>\n",
              "    </tr>\n",
              "    <tr>\n",
              "      <th>4</th>\n",
              "      <td>Villa, project, outside Vienna, Austria, Exter...</td>\n",
              "      <td>Emil Hoppe</td>\n",
              "      <td>7605</td>\n",
              "      <td>(Austrian, 1876–1957)</td>\n",
              "      <td>(Austrian)</td>\n",
              "      <td>(1876)</td>\n",
              "      <td>(1957)</td>\n",
              "      <td>(Male)</td>\n",
              "      <td>1903</td>\n",
              "      <td>Graphite, color pencil, ink, and gouache on tr...</td>\n",
              "      <td>...</td>\n",
              "      <td>http://www.moma.org/media/W1siZiIsIjEyNiJdLFsi...</td>\n",
              "      <td>NaN</td>\n",
              "      <td>NaN</td>\n",
              "      <td>NaN</td>\n",
              "      <td>38.4000</td>\n",
              "      <td>NaN</td>\n",
              "      <td>NaN</td>\n",
              "      <td>19.1000</td>\n",
              "      <td>NaN</td>\n",
              "      <td>NaN</td>\n",
              "    </tr>\n",
              "  </tbody>\n",
              "</table>\n",
              "<p>5 rows × 29 columns</p>\n",
              "</div>"
            ],
            "text/plain": [
              "                                               Title  \\\n",
              "0  Ferdinandsbrücke Project, Vienna, Austria, Ele...   \n",
              "1  City of Music, National Superior Conservatory ...   \n",
              "2  Villa near Vienna Project, Outside Vienna, Aus...   \n",
              "3  The Manhattan Transcripts Project, New York, N...   \n",
              "4  Villa, project, outside Vienna, Austria, Exter...   \n",
              "\n",
              "                     Artist ConstituentID  \\\n",
              "0               Otto Wagner          6210   \n",
              "1  Christian de Portzamparc          7470   \n",
              "2                Emil Hoppe          7605   \n",
              "3           Bernard Tschumi          7056   \n",
              "4                Emil Hoppe          7605   \n",
              "\n",
              "                                   ArtistBio Nationality BeginDate EndDate  \\\n",
              "0                      (Austrian, 1841–1918)  (Austrian)    (1841)  (1918)   \n",
              "1                        (French, born 1944)    (French)    (1944)     (0)   \n",
              "2                      (Austrian, 1876–1957)  (Austrian)    (1876)  (1957)   \n",
              "3  (French and Swiss, born Switzerland 1944)          ()    (1944)     (0)   \n",
              "4                      (Austrian, 1876–1957)  (Austrian)    (1876)  (1957)   \n",
              "\n",
              "   Gender  Date                                             Medium  \\\n",
              "0  (Male)  1896      Ink and cut-and-pasted painted pages on paper   \n",
              "1  (Male)  1987                  Paint and colored pencil on print   \n",
              "2  (Male)  1903  Graphite, pen, color pencil, ink, and gouache ...   \n",
              "3  (Male)  1980  Photographic reproduction with colored synthet...   \n",
              "4  (Male)  1903  Graphite, color pencil, ink, and gouache on tr...   \n",
              "\n",
              "        ...                                             ThumbnailURL  \\\n",
              "0       ...        http://www.moma.org/media/W1siZiIsIjU5NDA1Il0s...   \n",
              "1       ...        http://www.moma.org/media/W1siZiIsIjk3Il0sWyJw...   \n",
              "2       ...        http://www.moma.org/media/W1siZiIsIjk4Il0sWyJw...   \n",
              "3       ...        http://www.moma.org/media/W1siZiIsIjEyNCJdLFsi...   \n",
              "4       ...        http://www.moma.org/media/W1siZiIsIjEyNiJdLFsi...   \n",
              "\n",
              "  Circumference (cm) Depth (cm) Diameter (cm) Height (cm) Length (cm)  \\\n",
              "0                NaN        NaN           NaN     48.6000         NaN   \n",
              "1                NaN        NaN           NaN     40.6401         NaN   \n",
              "2                NaN        NaN           NaN     34.3000         NaN   \n",
              "3                NaN        NaN           NaN     50.8000         NaN   \n",
              "4                NaN        NaN           NaN     38.4000         NaN   \n",
              "\n",
              "  Weight (kg)  Width (cm) Seat Height (cm) Duration (sec.)  \n",
              "0         NaN    168.9000              NaN             NaN  \n",
              "1         NaN     29.8451              NaN             NaN  \n",
              "2         NaN     31.8000              NaN             NaN  \n",
              "3         NaN     50.8000              NaN             NaN  \n",
              "4         NaN     19.1000              NaN             NaN  \n",
              "\n",
              "[5 rows x 29 columns]"
            ]
          },
          "metadata": {
            "tags": []
          },
          "execution_count": 3
        }
      ]
    },
    {
      "metadata": {
        "id": "ivqNidTT2-xS",
        "colab_type": "code",
        "outputId": "de4613c9-73a1-4666-dc02-efa5f33c7009",
        "colab": {
          "base_uri": "https://localhost:8080/",
          "height": 176
        }
      },
      "cell_type": "code",
      "source": [
        "artworks.columns"
      ],
      "execution_count": 0,
      "outputs": [
        {
          "output_type": "execute_result",
          "data": {
            "text/plain": [
              "Index(['Title', 'Artist', 'ConstituentID', 'ArtistBio', 'Nationality',\n",
              "       'BeginDate', 'EndDate', 'Gender', 'Date', 'Medium', 'Dimensions',\n",
              "       'CreditLine', 'AccessionNumber', 'Classification', 'Department',\n",
              "       'DateAcquired', 'Cataloged', 'ObjectID', 'URL', 'ThumbnailURL',\n",
              "       'Circumference (cm)', 'Depth (cm)', 'Diameter (cm)', 'Height (cm)',\n",
              "       'Length (cm)', 'Weight (kg)', 'Width (cm)', 'Seat Height (cm)',\n",
              "       'Duration (sec.)'],\n",
              "      dtype='object')"
            ]
          },
          "metadata": {
            "tags": []
          },
          "execution_count": 4
        }
      ]
    },
    {
      "metadata": {
        "id": "VMcpyX2d2-xk",
        "colab_type": "code",
        "colab": {}
      },
      "cell_type": "code",
      "source": [
        "artworks = artworks[['Artist', 'Nationality', 'Gender', 'Date',\n",
        "                    'Department', 'DateAcquired', 'URL', 'ThumbnailURL',\n",
        "                    'Height (cm)', 'Width (cm)']]\n",
        "artworks['URL'] = artworks['URL'].notnull()\n",
        "artworks['ThumbnailURL'] = artworks['ThumbnailURL'].notnull()\n",
        "artworks = artworks[(artworks.Department != 'Film')&\n",
        "                    (artworks.Department != 'Media and Performance Art')&\n",
        "                    (artworks.Department != 'Fluxus Collection')]\n",
        "artworks = artworks.dropna()"
      ],
      "execution_count": 0,
      "outputs": []
    },
    {
      "metadata": {
        "scrolled": true,
        "id": "zOvUpgV42-x0",
        "colab_type": "code",
        "outputId": "67976ed9-541b-41d4-8233-4cc9685f6cde",
        "colab": {
          "base_uri": "https://localhost:8080/",
          "height": 326
        }
      },
      "cell_type": "code",
      "source": [
        "artworks.head()"
      ],
      "execution_count": 0,
      "outputs": [
        {
          "output_type": "execute_result",
          "data": {
            "text/html": [
              "<div>\n",
              "<style scoped>\n",
              "    .dataframe tbody tr th:only-of-type {\n",
              "        vertical-align: middle;\n",
              "    }\n",
              "\n",
              "    .dataframe tbody tr th {\n",
              "        vertical-align: top;\n",
              "    }\n",
              "\n",
              "    .dataframe thead th {\n",
              "        text-align: right;\n",
              "    }\n",
              "</style>\n",
              "<table border=\"1\" class=\"dataframe\">\n",
              "  <thead>\n",
              "    <tr style=\"text-align: right;\">\n",
              "      <th></th>\n",
              "      <th>Artist</th>\n",
              "      <th>Nationality</th>\n",
              "      <th>Gender</th>\n",
              "      <th>Date</th>\n",
              "      <th>Department</th>\n",
              "      <th>DateAcquired</th>\n",
              "      <th>URL</th>\n",
              "      <th>ThumbnailURL</th>\n",
              "      <th>Height (cm)</th>\n",
              "      <th>Width (cm)</th>\n",
              "    </tr>\n",
              "  </thead>\n",
              "  <tbody>\n",
              "    <tr>\n",
              "      <th>0</th>\n",
              "      <td>Otto Wagner</td>\n",
              "      <td>(Austrian)</td>\n",
              "      <td>(Male)</td>\n",
              "      <td>1896</td>\n",
              "      <td>Architecture &amp; Design</td>\n",
              "      <td>1996-04-09</td>\n",
              "      <td>True</td>\n",
              "      <td>True</td>\n",
              "      <td>48.6000</td>\n",
              "      <td>168.9000</td>\n",
              "    </tr>\n",
              "    <tr>\n",
              "      <th>1</th>\n",
              "      <td>Christian de Portzamparc</td>\n",
              "      <td>(French)</td>\n",
              "      <td>(Male)</td>\n",
              "      <td>1987</td>\n",
              "      <td>Architecture &amp; Design</td>\n",
              "      <td>1995-01-17</td>\n",
              "      <td>True</td>\n",
              "      <td>True</td>\n",
              "      <td>40.6401</td>\n",
              "      <td>29.8451</td>\n",
              "    </tr>\n",
              "    <tr>\n",
              "      <th>2</th>\n",
              "      <td>Emil Hoppe</td>\n",
              "      <td>(Austrian)</td>\n",
              "      <td>(Male)</td>\n",
              "      <td>1903</td>\n",
              "      <td>Architecture &amp; Design</td>\n",
              "      <td>1997-01-15</td>\n",
              "      <td>True</td>\n",
              "      <td>True</td>\n",
              "      <td>34.3000</td>\n",
              "      <td>31.8000</td>\n",
              "    </tr>\n",
              "    <tr>\n",
              "      <th>3</th>\n",
              "      <td>Bernard Tschumi</td>\n",
              "      <td>()</td>\n",
              "      <td>(Male)</td>\n",
              "      <td>1980</td>\n",
              "      <td>Architecture &amp; Design</td>\n",
              "      <td>1995-01-17</td>\n",
              "      <td>True</td>\n",
              "      <td>True</td>\n",
              "      <td>50.8000</td>\n",
              "      <td>50.8000</td>\n",
              "    </tr>\n",
              "    <tr>\n",
              "      <th>4</th>\n",
              "      <td>Emil Hoppe</td>\n",
              "      <td>(Austrian)</td>\n",
              "      <td>(Male)</td>\n",
              "      <td>1903</td>\n",
              "      <td>Architecture &amp; Design</td>\n",
              "      <td>1997-01-15</td>\n",
              "      <td>True</td>\n",
              "      <td>True</td>\n",
              "      <td>38.4000</td>\n",
              "      <td>19.1000</td>\n",
              "    </tr>\n",
              "  </tbody>\n",
              "</table>\n",
              "</div>"
            ],
            "text/plain": [
              "                     Artist Nationality  Gender  Date             Department  \\\n",
              "0               Otto Wagner  (Austrian)  (Male)  1896  Architecture & Design   \n",
              "1  Christian de Portzamparc    (French)  (Male)  1987  Architecture & Design   \n",
              "2                Emil Hoppe  (Austrian)  (Male)  1903  Architecture & Design   \n",
              "3           Bernard Tschumi          ()  (Male)  1980  Architecture & Design   \n",
              "4                Emil Hoppe  (Austrian)  (Male)  1903  Architecture & Design   \n",
              "\n",
              "  DateAcquired   URL  ThumbnailURL  Height (cm)  Width (cm)  \n",
              "0   1996-04-09  True          True      48.6000    168.9000  \n",
              "1   1995-01-17  True          True      40.6401     29.8451  \n",
              "2   1997-01-15  True          True      34.3000     31.8000  \n",
              "3   1995-01-17  True          True      50.8000     50.8000  \n",
              "4   1997-01-15  True          True      38.4000     19.1000  "
            ]
          },
          "metadata": {
            "tags": []
          },
          "execution_count": 6
        }
      ]
    },
    {
      "metadata": {
        "id": "h69G68YV2-yH",
        "colab_type": "code",
        "outputId": "88fc9a45-e312-4361-a061-8e85056ab3c6",
        "colab": {
          "base_uri": "https://localhost:8080/",
          "height": 901
        }
      },
      "cell_type": "code",
      "source": [
        "artworks.Gender.tail(50)"
      ],
      "execution_count": 0,
      "outputs": [
        {
          "output_type": "execute_result",
          "data": {
            "text/plain": [
              "135568          ()\n",
              "135569          ()\n",
              "135570          ()\n",
              "135571          ()\n",
              "135572          ()\n",
              "135573          ()\n",
              "135574          ()\n",
              "135575          ()\n",
              "135576          ()\n",
              "135577      (Male)\n",
              "135579          ()\n",
              "135580          ()\n",
              "135581          ()\n",
              "135582          ()\n",
              "135583    (Female)\n",
              "135584    (Female)\n",
              "135585    (Female)\n",
              "135586    (Female)\n",
              "135587    (Female)\n",
              "135588    (Female)\n",
              "135589    (Female)\n",
              "135590    (Female)\n",
              "135591    (Female)\n",
              "135592    (Female)\n",
              "135593    (Female)\n",
              "135594    (Female)\n",
              "135595      (Male)\n",
              "135596      (Male)\n",
              "135597      (Male)\n",
              "135598    (Female)\n",
              "135599    (Female)\n",
              "135612    (Female)\n",
              "135613    (Female)\n",
              "135614    (Female)\n",
              "135615    (Female)\n",
              "135623      (Male)\n",
              "135624      (Male)\n",
              "135625      (Male)\n",
              "135626      (Male)\n",
              "135627      (Male)\n",
              "135628      (Male)\n",
              "135629      (Male)\n",
              "135630      (Male)\n",
              "135631    (Female)\n",
              "135632    (Female)\n",
              "135633    (Female)\n",
              "135634    (Female)\n",
              "135635    (Female)\n",
              "135791      (Male)\n",
              "135792    (Female)\n",
              "Name: Gender, dtype: object"
            ]
          },
          "metadata": {
            "tags": []
          },
          "execution_count": 7
        }
      ]
    },
    {
      "metadata": {
        "id": "-vKJLTfo2-yZ",
        "colab_type": "code",
        "outputId": "f863bbc3-1746-41fe-8e38-e39e98875850",
        "colab": {
          "base_uri": "https://localhost:8080/",
          "height": 1112
        }
      },
      "cell_type": "code",
      "source": [
        "artworks.Gender.value_counts()"
      ],
      "execution_count": 0,
      "outputs": [
        {
          "output_type": "execute_result",
          "data": {
            "text/plain": [
              "(Male)                                                                                                                                                                   81754\n",
              "(Female)                                                                                                                                                                 14042\n",
              "()                                                                                                                                                                        4854\n",
              "(Male) (Male)                                                                                                                                                             1381\n",
              "(Male) (Male) (Male)                                                                                                                                                       844\n",
              "(Male) ()                                                                                                                                                                  629\n",
              "(Male) (Female)                                                                                                                                                            426\n",
              "(Female) (Male)                                                                                                                                                            184\n",
              "() (Male)                                                                                                                                                                  162\n",
              "() ()                                                                                                                                                                      141\n",
              "() (Male) (Female)                                                                                                                                                         126\n",
              "(Female) (Male) (Male)                                                                                                                                                     106\n",
              "() (Male) (Male)                                                                                                                                                            98\n",
              "(Female) (Female)                                                                                                                                                           97\n",
              "(Female) (Male) (Male) (Female) (Male) (Male)                                                                                                                               60\n",
              "() (Male) (Male) (Male)                                                                                                                                                     53\n",
              "() (Male) (Male) (Male) (Female) (Male) () (Male) () () (Male) (Male) (Male) (Female) (Male) () () (Male) () ()                                                             50\n",
              "(Male) (Male) ()                                                                                                                                                            47\n",
              "(Female) (Male) (Female) (Male) (Male) (Male) (Male)                                                                                                                        46\n",
              "(Male) () ()                                                                                                                                                                37\n",
              "(Female) (Male) (Female) (Male) (Male) (Male)                                                                                                                               36\n",
              "(Male) (Female) (Male)                                                                                                                                                      32\n",
              "(Female) ()                                                                                                                                                                 31\n",
              "(Male) (Male) (Female)                                                                                                                                                      28\n",
              "() (Male) (Male) (Male) (Male) (Male)                                                                                                                                       26\n",
              "(Male) (Female) (Female)                                                                                                                                                    26\n",
              "(Male) (Male) (Female) (Female)                                                                                                                                             25\n",
              "() (Male) (Male) (Male) (Male)                                                                                                                                              24\n",
              "() () ()                                                                                                                                                                    23\n",
              "() (Female) (Male)                                                                                                                                                          22\n",
              "                                                                                                                                                                         ...  \n",
              "() (Male) (Male) (Male) (Male) (Female) (Male) (Male) () (Male) (Male) ()                                                                                                    1\n",
              "() (Male) (Male) (Female) (Female) (Male)                                                                                                                                    1\n",
              "() (Male) (Male) (Male) (Male) () (Male) (Male) (Male) (Male) (Male) (Male) (Male) (Male) (Male) (Male) (Male) (Male)                                                        1\n",
              "() (Male) () (Male) (Male) (Male) (Male) (Male) (Male)                                                                                                                       1\n",
              "() (Male) (Male) () (Male) (Male) (Male) (Male) (Female) (Male) (Male) (Male) (Female) (Male)                                                                                1\n",
              "() (Male) (Male) (Male) (Female) (Male) (Male) (Male) (Male) (Male) (Male) (Female) (Male) (Male) (Male) (Male) (Male) (Male) (Male) (Male) (Male)                           1\n",
              "(Male) (Male) (Male) (Male) (Female) (Male)                                                                                                                                  1\n",
              "() (Male) (male)                                                                                                                                                             1\n",
              "(Female) () () ()                                                                                                                                                            1\n",
              "() (Male) (Male) () (Male)                                                                                                                                                   1\n",
              "(Male) () (Male) (Male) (Male) (Male)                                                                                                                                        1\n",
              "(Male) (Male) (Male) (Male) (Male) (Male) () () (Male) (Male)                                                                                                                1\n",
              "(Male) (Female) (Male) (Male) (Male)                                                                                                                                         1\n",
              "() (Male) (Female) (Male) (Male) (Male) (Female) (Female) (Female) (Male)                                                                                                    1\n",
              "() (Male) () () (Male)                                                                                                                                                       1\n",
              "() (Male) (Male) (Male) (Male) (Male) (Female) (Male) (Male) (Male) (Male) (Male) (Female) (Male) (Male) (Male)                                                              1\n",
              "() (Male) (Male) (Male) (Male) (Male) (Male) (Male) (Male) (Male) (Male) (Male) (Male) (Male) (Male) (Male) (Male) (Male) (Male) (Male) (Female) (Male) (Male) (Male)        1\n",
              "(Male) () (Male) (Male)                                                                                                                                                      1\n",
              "(Male) () () (Male) (Male) (Male) ()                                                                                                                                         1\n",
              "(Male) (Male) (Male) () (Male) (Male)                                                                                                                                        1\n",
              "() (Male) (Male) (Male) (Male) (Male) (Male) (Male) (Male) (Male) (Male) (Male) (Male) (Male)                                                                                1\n",
              "(Male) (Male) (Male) (Male) (Female) (Male) (Male) (Male) (Male) (Male)                                                                                                      1\n",
              "() (Male) (Female) (Female) (Male) (Male)                                                                                                                                    1\n",
              "() (Male) () () (Male) () (Male) () (Male) (Female) () (Male) () (Female) () () (Female) (Male)                                                                              1\n",
              "(Male) (Male) (Male) (Male) (Female) ()                                                                                                                                      1\n",
              "(Male) () (Male) (Female) (Male) (Male) (Male) (Male) (Female)                                                                                                               1\n",
              "() (Male) (Male) () (Male) (Male) (Male) (Male) (Female) (Female) (Male) (Male) (Male) (Male)                                                                                1\n",
              "(Male) (Male) (Male) (Male) (Female) (Male) (Female)                                                                                                                         1\n",
              "() (Male) (Male) () (Male) (Male) (Male) (Male) (Male) (Male) (Male) (Male)                                                                                                  1\n",
              "() (Male) (Male) (Male) (Female) (Female) (Male) (Male) (Male) (Male) (Male) (Male) (Male) (Male) (Male) (Male) (Male) () (Male) (Male)                                      1\n",
              "Name: Gender, Length: 308, dtype: int64"
            ]
          },
          "metadata": {
            "tags": []
          },
          "execution_count": 8
        }
      ]
    },
    {
      "metadata": {
        "id": "DMt2XLVP2-y2",
        "colab_type": "code",
        "outputId": "d7308e77-02dc-4fce-a60e-a08388e160a0",
        "colab": {
          "base_uri": "https://localhost:8080/",
          "height": 208
        }
      },
      "cell_type": "code",
      "source": [
        "artworks.dtypes"
      ],
      "execution_count": 0,
      "outputs": [
        {
          "output_type": "execute_result",
          "data": {
            "text/plain": [
              "Artist           object\n",
              "Nationality      object\n",
              "Gender           object\n",
              "Date             object\n",
              "Department       object\n",
              "DateAcquired     object\n",
              "URL                bool\n",
              "ThumbnailURL       bool\n",
              "Height (cm)     float64\n",
              "Width (cm)      float64\n",
              "dtype: object"
            ]
          },
          "metadata": {
            "tags": []
          },
          "execution_count": 9
        }
      ]
    },
    {
      "metadata": {
        "id": "cw7Ft5fz2-zE",
        "colab_type": "code",
        "outputId": "27c91ec6-4993-4942-feb6-ab1c39865cf7",
        "colab": {
          "base_uri": "https://localhost:8080/",
          "height": 35
        }
      },
      "cell_type": "code",
      "source": [
        "artworks['DateAcquired'] = pd.to_datetime(artworks.DateAcquired)\n",
        "artworks['YearAcquired'] = artworks.DateAcquired.dt.year\n",
        "artworks.YearAcquired.dtype"
      ],
      "execution_count": 0,
      "outputs": [
        {
          "output_type": "execute_result",
          "data": {
            "text/plain": [
              "dtype('int64')"
            ]
          },
          "metadata": {
            "tags": []
          },
          "execution_count": 10
        }
      ]
    },
    {
      "metadata": {
        "id": "gDgx86Yo2-zN",
        "colab_type": "code",
        "colab": {}
      },
      "cell_type": "code",
      "source": [
        "artworks.loc[artworks.Gender.str.contains('\\) \\('), 'Gender'] = '\\(multiple_persons\\)'\n",
        "artworks.loc[artworks.Nationality.str.contains('\\) \\('), 'Nationality'] = '\\(multiple_nationalities\\)'\n",
        "artworks.loc[artworks.Artist.str.contains(','), 'Artist'] = 'Multiple_Artists'\n",
        "\n",
        "artworks['Date'] = pd.Series(artworks.Date.str.extract(\n",
        "        '([0-9]{4})', expand=False))[:-1]\n",
        "\n",
        "X=artworks.drop(['Department', 'DateAcquired', 'Artist',\n",
        "                'Nationality', 'Date'], 1)\n",
        "artists = pd.get_dummies(artworks.Artist)\n",
        "nationalities = pd.get_dummies(artworks.Nationality)\n",
        "dates = pd.get_dummies(artworks.Date)\n",
        "\n",
        "X = pd.get_dummies(X)\n",
        "X = pd.concat([X, nationalities, dates], axis=1)\n",
        "Y = artworks.Department"
      ],
      "execution_count": 0,
      "outputs": []
    },
    {
      "metadata": {
        "id": "ebR5-zfK2-zV",
        "colab_type": "code",
        "colab": {}
      },
      "cell_type": "code",
      "source": [
        "X['Department'] = artworks['Department']\n",
        "Xsample = X.sample(frac=.3)"
      ],
      "execution_count": 0,
      "outputs": []
    },
    {
      "metadata": {
        "id": "jwE3YAp92-zb",
        "colab_type": "code",
        "colab": {}
      },
      "cell_type": "code",
      "source": [
        "Xnew = Xsample.drop(columns='Department')\n",
        "Ynew = Xsample['Department']\n",
        "X_train, X_test, y_train, y_test = train_test_split(Xnew, Ynew, test_size=.3)"
      ],
      "execution_count": 0,
      "outputs": []
    },
    {
      "metadata": {
        "id": "6rUhUBV42-zn",
        "colab_type": "code",
        "outputId": "977b8ea8-debb-4b8c-c590-421fbd708402",
        "colab": {
          "base_uri": "https://localhost:8080/",
          "height": 159
        }
      },
      "cell_type": "code",
      "source": [
        "from sklearn.neural_network import MLPClassifier\n",
        "mlp = MLPClassifier(hidden_layer_sizes=(100,4))\n",
        "mlp.fit(X_train,y_train)"
      ],
      "execution_count": 0,
      "outputs": [
        {
          "output_type": "execute_result",
          "data": {
            "text/plain": [
              "MLPClassifier(activation='relu', alpha=0.0001, batch_size='auto', beta_1=0.9,\n",
              "       beta_2=0.999, early_stopping=False, epsilon=1e-08,\n",
              "       hidden_layer_sizes=(100, 4), learning_rate='constant',\n",
              "       learning_rate_init=0.001, max_iter=200, momentum=0.9,\n",
              "       nesterovs_momentum=True, power_t=0.5, random_state=None,\n",
              "       shuffle=True, solver='adam', tol=0.0001, validation_fraction=0.1,\n",
              "       verbose=False, warm_start=False)"
            ]
          },
          "metadata": {
            "tags": []
          },
          "execution_count": 22
        }
      ]
    },
    {
      "metadata": {
        "id": "0F0zNvmH2-zs",
        "colab_type": "code",
        "colab": {}
      },
      "cell_type": "code",
      "source": [
        "y_pred = mlp.predict(X_test)"
      ],
      "execution_count": 0,
      "outputs": []
    },
    {
      "metadata": {
        "id": "TSH0T90y4crD",
        "colab_type": "code",
        "outputId": "5fe4a1c9-b65e-4f98-83ba-3df52ee489d3",
        "colab": {
          "base_uri": "https://localhost:8080/",
          "height": 179
        }
      },
      "cell_type": "code",
      "source": [
        "pd.crosstab(y_pred, y_test)"
      ],
      "execution_count": 0,
      "outputs": [
        {
          "output_type": "execute_result",
          "data": {
            "text/html": [
              "<div>\n",
              "<style scoped>\n",
              "    .dataframe tbody tr th:only-of-type {\n",
              "        vertical-align: middle;\n",
              "    }\n",
              "\n",
              "    .dataframe tbody tr th {\n",
              "        vertical-align: top;\n",
              "    }\n",
              "\n",
              "    .dataframe thead th {\n",
              "        text-align: right;\n",
              "    }\n",
              "</style>\n",
              "<table border=\"1\" class=\"dataframe\">\n",
              "  <thead>\n",
              "    <tr style=\"text-align: right;\">\n",
              "      <th>Department</th>\n",
              "      <th>Architecture &amp; Design</th>\n",
              "      <th>Drawings</th>\n",
              "      <th>Painting &amp; Sculpture</th>\n",
              "      <th>Photography</th>\n",
              "      <th>Prints &amp; Illustrated Books</th>\n",
              "    </tr>\n",
              "    <tr>\n",
              "      <th>row_0</th>\n",
              "      <th></th>\n",
              "      <th></th>\n",
              "      <th></th>\n",
              "      <th></th>\n",
              "      <th></th>\n",
              "    </tr>\n",
              "  </thead>\n",
              "  <tbody>\n",
              "    <tr>\n",
              "      <th>Prints &amp; Illustrated Books</th>\n",
              "      <td>1099</td>\n",
              "      <td>1022</td>\n",
              "      <td>314</td>\n",
              "      <td>2130</td>\n",
              "      <td>4978</td>\n",
              "    </tr>\n",
              "  </tbody>\n",
              "</table>\n",
              "</div>"
            ],
            "text/plain": [
              "Department                  Architecture & Design  Drawings  \\\n",
              "row_0                                                         \n",
              "Prints & Illustrated Books                   1099      1022   \n",
              "\n",
              "Department                  Painting & Sculpture  Photography  \\\n",
              "row_0                                                           \n",
              "Prints & Illustrated Books                   314         2130   \n",
              "\n",
              "Department                  Prints & Illustrated Books  \n",
              "row_0                                                   \n",
              "Prints & Illustrated Books                        4978  "
            ]
          },
          "metadata": {
            "tags": []
          },
          "execution_count": 25
        }
      ]
    },
    {
      "metadata": {
        "id": "qlaDVawG4c1O",
        "colab_type": "code",
        "outputId": "ae2332d0-a033-48ec-86aa-713739e452e3",
        "colab": {
          "base_uri": "https://localhost:8080/",
          "height": 89
        }
      },
      "cell_type": "code",
      "source": [
        "classification_report(y_test, y_pred)"
      ],
      "execution_count": 0,
      "outputs": [
        {
          "output_type": "stream",
          "text": [
            "/usr/local/lib/python3.6/dist-packages/sklearn/metrics/classification.py:1135: UndefinedMetricWarning: Precision and F-score are ill-defined and being set to 0.0 in labels with no predicted samples.\n",
            "  'precision', 'predicted', average, warn_for)\n"
          ],
          "name": "stderr"
        },
        {
          "output_type": "execute_result",
          "data": {
            "text/plain": [
              "'                            precision    recall  f1-score   support\\n\\n     Architecture & Design       0.00      0.00      0.00      1099\\n                  Drawings       0.00      0.00      0.00      1022\\n      Painting & Sculpture       0.00      0.00      0.00       314\\n               Photography       0.00      0.00      0.00      2130\\nPrints & Illustrated Books       0.52      1.00      0.69      4978\\n\\n               avg / total       0.27      0.52      0.36      9543\\n'"
            ]
          },
          "metadata": {
            "tags": []
          },
          "execution_count": 26
        }
      ]
    },
    {
      "metadata": {
        "id": "IZL3RxSv4c7V",
        "colab_type": "code",
        "colab": {}
      },
      "cell_type": "code",
      "source": [
        ""
      ],
      "execution_count": 0,
      "outputs": []
    },
    {
      "metadata": {
        "id": "_ZJKOb-D4c-z",
        "colab_type": "code",
        "colab": {}
      },
      "cell_type": "code",
      "source": [
        ""
      ],
      "execution_count": 0,
      "outputs": []
    },
    {
      "metadata": {
        "id": "nNMNUZgL4c5o",
        "colab_type": "code",
        "colab": {}
      },
      "cell_type": "code",
      "source": [
        ""
      ],
      "execution_count": 0,
      "outputs": []
    },
    {
      "metadata": {
        "id": "IV3_wsZG4c3u",
        "colab_type": "code",
        "colab": {}
      },
      "cell_type": "code",
      "source": [
        ""
      ],
      "execution_count": 0,
      "outputs": []
    }
  ]
}