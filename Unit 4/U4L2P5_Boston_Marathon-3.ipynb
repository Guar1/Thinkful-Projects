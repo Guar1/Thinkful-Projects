{
  "nbformat": 4,
  "nbformat_minor": 0,
  "metadata": {
    "colab": {
      "name": "U4L2P5-Boston Marathon",
      "version": "0.3.2",
      "provenance": [],
      "collapsed_sections": []
    },
    "kernelspec": {
      "name": "python3",
      "display_name": "Python 3"
    }
  },
  "cells": [
    {
      "metadata": {
        "id": "dw4_MjTQdGmu",
        "colab_type": "code",
        "colab": {}
      },
      "cell_type": "code",
      "source": [
        "import numpy as np\n",
        "import pandas as pd\n",
        "import scipy\n",
        "import matplotlib.pyplot as plt\n",
        "import seaborn as sns\n",
        "%matplotlib inline\n",
        "from sklearn.cluster import KMeans\n",
        "from sklearn.preprocessing import normalize\n",
        "from sklearn.model_selection import train_test_split\n",
        "from sklearn.decomposition import PCA\n",
        "from sklearn.cluster import KMeans, MiniBatchKMeans\n",
        "from sklearn.metrics import silhouette_score\n",
        "from scipy.stats import ttest_ind\n"
      ],
      "execution_count": 0,
      "outputs": []
    },
    {
      "metadata": {
        "id": "TFQJz269nQ6M",
        "colab_type": "code",
        "colab": {
          "base_uri": "https://localhost:8080/",
          "height": 318
        },
        "outputId": "4567eb07-6652-41c3-93fe-da76a36cde15"
      },
      "cell_type": "code",
      "source": [
        "df = pd.read_csv('https://raw.githubusercontent.com/llimllib/bostonmarathon/master/results/2014/results.csv')\n",
        "df.head()"
      ],
      "execution_count": 74,
      "outputs": [
        {
          "output_type": "execute_result",
          "data": {
            "text/html": [
              "<div>\n",
              "<style scoped>\n",
              "    .dataframe tbody tr th:only-of-type {\n",
              "        vertical-align: middle;\n",
              "    }\n",
              "\n",
              "    .dataframe tbody tr th {\n",
              "        vertical-align: top;\n",
              "    }\n",
              "\n",
              "    .dataframe thead th {\n",
              "        text-align: right;\n",
              "    }\n",
              "</style>\n",
              "<table border=\"1\" class=\"dataframe\">\n",
              "  <thead>\n",
              "    <tr style=\"text-align: right;\">\n",
              "      <th></th>\n",
              "      <th>10k</th>\n",
              "      <th>name</th>\n",
              "      <th>division</th>\n",
              "      <th>25k</th>\n",
              "      <th>gender</th>\n",
              "      <th>age</th>\n",
              "      <th>official</th>\n",
              "      <th>bib</th>\n",
              "      <th>genderdiv</th>\n",
              "      <th>ctz</th>\n",
              "      <th>...</th>\n",
              "      <th>overall</th>\n",
              "      <th>pace</th>\n",
              "      <th>state</th>\n",
              "      <th>30k</th>\n",
              "      <th>5k</th>\n",
              "      <th>half</th>\n",
              "      <th>20k</th>\n",
              "      <th>country</th>\n",
              "      <th>city</th>\n",
              "      <th>40k</th>\n",
              "    </tr>\n",
              "  </thead>\n",
              "  <tbody>\n",
              "    <tr>\n",
              "      <th>0</th>\n",
              "      <td>17.37</td>\n",
              "      <td>Yamamoto, Hiroyuki</td>\n",
              "      <td>8</td>\n",
              "      <td>47.67</td>\n",
              "      <td>M</td>\n",
              "      <td>47</td>\n",
              "      <td>85.25</td>\n",
              "      <td>W1</td>\n",
              "      <td>8</td>\n",
              "      <td>NaN</td>\n",
              "      <td>...</td>\n",
              "      <td>8</td>\n",
              "      <td>3.27</td>\n",
              "      <td>NaN</td>\n",
              "      <td>59.18</td>\n",
              "      <td>8.02</td>\n",
              "      <td>39.72</td>\n",
              "      <td>37.65</td>\n",
              "      <td>JPN</td>\n",
              "      <td>Fukuoka</td>\n",
              "      <td>80.43</td>\n",
              "    </tr>\n",
              "    <tr>\n",
              "      <th>1</th>\n",
              "      <td>32.58</td>\n",
              "      <td>Jeptoo, Rita</td>\n",
              "      <td>1</td>\n",
              "      <td>82.43</td>\n",
              "      <td>F</td>\n",
              "      <td>33</td>\n",
              "      <td>138.95</td>\n",
              "      <td>F1</td>\n",
              "      <td>1</td>\n",
              "      <td>NaN</td>\n",
              "      <td>...</td>\n",
              "      <td>21</td>\n",
              "      <td>5.30</td>\n",
              "      <td>NaN</td>\n",
              "      <td>99.33</td>\n",
              "      <td>16.22</td>\n",
              "      <td>69.47</td>\n",
              "      <td>65.83</td>\n",
              "      <td>KEN</td>\n",
              "      <td>Eldoret</td>\n",
              "      <td>132.10</td>\n",
              "    </tr>\n",
              "    <tr>\n",
              "      <th>2</th>\n",
              "      <td>16.62</td>\n",
              "      <td>Van Dyk, Ernst F.</td>\n",
              "      <td>1</td>\n",
              "      <td>45.80</td>\n",
              "      <td>M</td>\n",
              "      <td>41</td>\n",
              "      <td>80.60</td>\n",
              "      <td>W2</td>\n",
              "      <td>1</td>\n",
              "      <td>NaN</td>\n",
              "      <td>...</td>\n",
              "      <td>1</td>\n",
              "      <td>3.08</td>\n",
              "      <td>NaN</td>\n",
              "      <td>56.45</td>\n",
              "      <td>7.75</td>\n",
              "      <td>38.03</td>\n",
              "      <td>36.10</td>\n",
              "      <td>RSA</td>\n",
              "      <td>Paarl</td>\n",
              "      <td>76.10</td>\n",
              "    </tr>\n",
              "    <tr>\n",
              "      <th>3</th>\n",
              "      <td>32.57</td>\n",
              "      <td>Dibaba, Mare</td>\n",
              "      <td>3</td>\n",
              "      <td>82.43</td>\n",
              "      <td>F</td>\n",
              "      <td>24</td>\n",
              "      <td>140.58</td>\n",
              "      <td>F2</td>\n",
              "      <td>3</td>\n",
              "      <td>NaN</td>\n",
              "      <td>...</td>\n",
              "      <td>27</td>\n",
              "      <td>5.37</td>\n",
              "      <td>NaN</td>\n",
              "      <td>99.33</td>\n",
              "      <td>16.20</td>\n",
              "      <td>69.47</td>\n",
              "      <td>65.83</td>\n",
              "      <td>ETH</td>\n",
              "      <td>Shoa</td>\n",
              "      <td>132.95</td>\n",
              "    </tr>\n",
              "    <tr>\n",
              "      <th>4</th>\n",
              "      <td>17.12</td>\n",
              "      <td>Hokinoue, Kota</td>\n",
              "      <td>2</td>\n",
              "      <td>46.37</td>\n",
              "      <td>M</td>\n",
              "      <td>40</td>\n",
              "      <td>81.23</td>\n",
              "      <td>W3</td>\n",
              "      <td>2</td>\n",
              "      <td>NaN</td>\n",
              "      <td>...</td>\n",
              "      <td>2</td>\n",
              "      <td>3.10</td>\n",
              "      <td>NaN</td>\n",
              "      <td>57.03</td>\n",
              "      <td>8.02</td>\n",
              "      <td>38.60</td>\n",
              "      <td>36.58</td>\n",
              "      <td>JPN</td>\n",
              "      <td>Nogata Fukuoka</td>\n",
              "      <td>76.72</td>\n",
              "    </tr>\n",
              "  </tbody>\n",
              "</table>\n",
              "<p>5 rows × 21 columns</p>\n",
              "</div>"
            ],
            "text/plain": [
              "     10k                name  division    25k gender  age  official bib  \\\n",
              "0  17.37  Yamamoto, Hiroyuki         8  47.67      M   47     85.25  W1   \n",
              "1  32.58        Jeptoo, Rita         1  82.43      F   33    138.95  F1   \n",
              "2  16.62   Van Dyk, Ernst F.         1  45.80      M   41     80.60  W2   \n",
              "3  32.57        Dibaba, Mare         3  82.43      F   24    140.58  F2   \n",
              "4  17.12      Hokinoue, Kota         2  46.37      M   40     81.23  W3   \n",
              "\n",
              "   genderdiv  ctz   ...   overall  pace  state    30k     5k   half    20k  \\\n",
              "0          8  NaN   ...         8  3.27    NaN  59.18   8.02  39.72  37.65   \n",
              "1          1  NaN   ...        21  5.30    NaN  99.33  16.22  69.47  65.83   \n",
              "2          1  NaN   ...         1  3.08    NaN  56.45   7.75  38.03  36.10   \n",
              "3          3  NaN   ...        27  5.37    NaN  99.33  16.20  69.47  65.83   \n",
              "4          2  NaN   ...         2  3.10    NaN  57.03   8.02  38.60  36.58   \n",
              "\n",
              "  country            city     40k  \n",
              "0     JPN         Fukuoka   80.43  \n",
              "1     KEN         Eldoret  132.10  \n",
              "2     RSA           Paarl   76.10  \n",
              "3     ETH            Shoa  132.95  \n",
              "4     JPN  Nogata Fukuoka   76.72  \n",
              "\n",
              "[5 rows x 21 columns]"
            ]
          },
          "metadata": {
            "tags": []
          },
          "execution_count": 74
        }
      ]
    },
    {
      "metadata": {
        "id": "dy4GnLoqo-09",
        "colab_type": "code",
        "colab": {
          "base_uri": "https://localhost:8080/",
          "height": 391
        },
        "outputId": "df321030-2064-47cf-f2e5-1a0dcb3f40e5"
      },
      "cell_type": "code",
      "source": [
        "df.dtypes"
      ],
      "execution_count": 75,
      "outputs": [
        {
          "output_type": "execute_result",
          "data": {
            "text/plain": [
              "10k           object\n",
              "name          object\n",
              "division       int64\n",
              "25k           object\n",
              "gender        object\n",
              "age            int64\n",
              "official     float64\n",
              "bib           object\n",
              "genderdiv      int64\n",
              "ctz           object\n",
              "35k           object\n",
              "overall        int64\n",
              "pace         float64\n",
              "state         object\n",
              "30k           object\n",
              "5k            object\n",
              "half          object\n",
              "20k           object\n",
              "country       object\n",
              "city          object\n",
              "40k           object\n",
              "dtype: object"
            ]
          },
          "metadata": {
            "tags": []
          },
          "execution_count": 75
        }
      ]
    },
    {
      "metadata": {
        "id": "MS-9WD0Gs9Ct",
        "colab_type": "text"
      },
      "cell_type": "markdown",
      "source": [
        "Cleaning the data. There are some nulls in the city and state columns which we will drop. the CTZ column is mostly null so those will be dropped as well"
      ]
    },
    {
      "metadata": {
        "id": "a81xH67XpOle",
        "colab_type": "code",
        "colab": {}
      },
      "cell_type": "code",
      "source": [
        "df.city.dropna(inplace=True)"
      ],
      "execution_count": 0,
      "outputs": []
    },
    {
      "metadata": {
        "id": "p9y7ivYwq8mO",
        "colab_type": "code",
        "colab": {
          "base_uri": "https://localhost:8080/",
          "height": 51
        },
        "outputId": "ba2e122d-486f-4888-e788-492693d4ba3c"
      },
      "cell_type": "code",
      "source": [
        "df['40k'].isna().value_counts()"
      ],
      "execution_count": 77,
      "outputs": [
        {
          "output_type": "execute_result",
          "data": {
            "text/plain": [
              "False    31984\n",
              "Name: 40k, dtype: int64"
            ]
          },
          "metadata": {
            "tags": []
          },
          "execution_count": 77
        }
      ]
    },
    {
      "metadata": {
        "id": "TUG5a6Uip42t",
        "colab_type": "code",
        "colab": {}
      },
      "cell_type": "code",
      "source": [
        "df.drop(columns=['ctz'], inplace=True)"
      ],
      "execution_count": 0,
      "outputs": []
    },
    {
      "metadata": {
        "id": "g2yb_9_KolIU",
        "colab_type": "code",
        "colab": {
          "base_uri": "https://localhost:8080/",
          "height": 85
        },
        "outputId": "e6b5058c-1584-4d1e-fb79-c690d6cffcf1"
      },
      "cell_type": "code",
      "source": [
        "df.columns"
      ],
      "execution_count": 79,
      "outputs": [
        {
          "output_type": "execute_result",
          "data": {
            "text/plain": [
              "Index(['10k', 'name', 'division', '25k', 'gender', 'age', 'official', 'bib',\n",
              "       'genderdiv', '35k', 'overall', 'pace', 'state', '30k', '5k', 'half',\n",
              "       '20k', 'country', 'city', '40k'],\n",
              "      dtype='object')"
            ]
          },
          "metadata": {
            "tags": []
          },
          "execution_count": 79
        }
      ]
    },
    {
      "metadata": {
        "id": "Do8OHkPMuP9v",
        "colab_type": "code",
        "colab": {}
      },
      "cell_type": "code",
      "source": [
        "#Some of the times for marathon runs are not recorded. We will go ahead and remove these from the dataset.\n",
        "df = df[df['5k']!='-']\n",
        "df = df[df['10k']!='-']\n",
        "df = df[df['25k']!='-']\n",
        "df = df[df['30k']!='-']\n",
        "df = df[df['35k']!='-']\n",
        "df = df[df['40k']!='-']\n",
        "df = df[df['half']!='-']"
      ],
      "execution_count": 0,
      "outputs": []
    },
    {
      "metadata": {
        "id": "Hl3F8txfu1bV",
        "colab_type": "code",
        "colab": {}
      },
      "cell_type": "code",
      "source": [
        "df.shape[0]\n",
        "columns = ['5k', '10k', '25k', '30k', '35k', '40k', 'half']\n",
        "for entry in columns:\n",
        "  df[entry] = df[entry].astype('float')"
      ],
      "execution_count": 0,
      "outputs": []
    },
    {
      "metadata": {
        "id": "--SJ2QSPvzIm",
        "colab_type": "code",
        "colab": {
          "base_uri": "https://localhost:8080/",
          "height": 34
        },
        "outputId": "519bc481-3754-4361-90b9-308d7df23676"
      },
      "cell_type": "code",
      "source": [
        "df['5k'].dtypes"
      ],
      "execution_count": 82,
      "outputs": [
        {
          "output_type": "execute_result",
          "data": {
            "text/plain": [
              "dtype('float64')"
            ]
          },
          "metadata": {
            "tags": []
          },
          "execution_count": 82
        }
      ]
    },
    {
      "metadata": {
        "id": "E6CBjTbxothj",
        "colab_type": "code",
        "colab": {}
      },
      "cell_type": "code",
      "source": [
        "X=df[['5k','10k', '25k', '30k', '35k', '40k', 'half' ]]\n",
        "Xnorm = normalize(X)\n"
      ],
      "execution_count": 0,
      "outputs": []
    },
    {
      "metadata": {
        "id": "qWi-acAjxS90",
        "colab_type": "code",
        "colab": {
          "base_uri": "https://localhost:8080/",
          "height": 283
        },
        "outputId": "048d634a-b409-4ada-9396-a90a0dfd4ccb"
      },
      "cell_type": "code",
      "source": [
        "sse = {}\n",
        "K = range(1,10)\n",
        "for k in K:\n",
        "  kmean = KMeans(n_clusters=k).fit(Xnorm)\n",
        "  sse[k] = kmean.inertia_\n",
        "  \n",
        "plt.plot(list(sse.keys()), list(sse.values()))\n"
      ],
      "execution_count": 84,
      "outputs": [
        {
          "output_type": "execute_result",
          "data": {
            "text/plain": [
              "[<matplotlib.lines.Line2D at 0x7f2bbbfaada0>]"
            ]
          },
          "metadata": {
            "tags": []
          },
          "execution_count": 84
        },
        {
          "output_type": "display_data",
          "data": {
            "image/png": "[encoded data removed]",
            "text/plain": [
              "<matplotlib.figure.Figure at 0x7f2bbbe97400>"
            ]
          },
          "metadata": {
            "tags": []
          }
        }
      ]
    },
    {
      "metadata": {
        "id": "StpWyURzyLIk",
        "colab_type": "code",
        "colab": {
          "base_uri": "https://localhost:8080/",
          "height": 265
        },
        "outputId": "9ffda93b-3c02-49b1-cb7a-1ce0459e0d86"
      },
      "cell_type": "code",
      "source": [
        "#it seems from the elbow graph that the ideal number of clusters is 2.\n",
        "y_pred = KMeans(n_clusters=2, random_state=42).fit_predict(Xnorm)\n",
        "plt.scatter(Xnorm[:,0], Xnorm[:, 1], c=y_pred)\n",
        "plt.show()\n"
      ],
      "execution_count": 85,
      "outputs": [
        {
          "output_type": "display_data",
          "data": {
            "image/png": "[encoded data removed]",
            "text/plain": [
              "<matplotlib.figure.Figure at 0x7f2bbbfc3128>"
            ]
          },
          "metadata": {
            "tags": []
          }
        }
      ]
    },
    {
      "metadata": {
        "id": "izVzZxGUy0tM",
        "colab_type": "code",
        "colab": {
          "base_uri": "https://localhost:8080/",
          "height": 204
        },
        "outputId": "e7b17eec-90a2-4518-a46d-58cfbea5eeee"
      },
      "cell_type": "code",
      "source": [
        "#Now that we have clustered the runners into 2 groups, we can see how those clusters compare to each other. First we'll do an inner join to get all the data\n",
        "#together\n",
        "dfy = pd.DataFrame(y_pred)\n",
        "dfy.columns = ['cluster']\n",
        "dfy.head()"
      ],
      "execution_count": 86,
      "outputs": [
        {
          "output_type": "execute_result",
          "data": {
            "text/html": [
              "<div>\n",
              "<style scoped>\n",
              "    .dataframe tbody tr th:only-of-type {\n",
              "        vertical-align: middle;\n",
              "    }\n",
              "\n",
              "    .dataframe tbody tr th {\n",
              "        vertical-align: top;\n",
              "    }\n",
              "\n",
              "    .dataframe thead th {\n",
              "        text-align: right;\n",
              "    }\n",
              "</style>\n",
              "<table border=\"1\" class=\"dataframe\">\n",
              "  <thead>\n",
              "    <tr style=\"text-align: right;\">\n",
              "      <th></th>\n",
              "      <th>cluster</th>\n",
              "    </tr>\n",
              "  </thead>\n",
              "  <tbody>\n",
              "    <tr>\n",
              "      <th>0</th>\n",
              "      <td>0</td>\n",
              "    </tr>\n",
              "    <tr>\n",
              "      <th>1</th>\n",
              "      <td>0</td>\n",
              "    </tr>\n",
              "    <tr>\n",
              "      <th>2</th>\n",
              "      <td>0</td>\n",
              "    </tr>\n",
              "    <tr>\n",
              "      <th>3</th>\n",
              "      <td>0</td>\n",
              "    </tr>\n",
              "    <tr>\n",
              "      <th>4</th>\n",
              "      <td>0</td>\n",
              "    </tr>\n",
              "  </tbody>\n",
              "</table>\n",
              "</div>"
            ],
            "text/plain": [
              "   cluster\n",
              "0        0\n",
              "1        0\n",
              "2        0\n",
              "3        0\n",
              "4        0"
            ]
          },
          "metadata": {
            "tags": []
          },
          "execution_count": 86
        }
      ]
    },
    {
      "metadata": {
        "id": "EDr2GBbD1dF0",
        "colab_type": "code",
        "colab": {
          "base_uri": "https://localhost:8080/",
          "height": 343
        },
        "outputId": "49206fd6-7590-4bde-c16a-70726a237d8a"
      },
      "cell_type": "code",
      "source": [
        "dfjoined = df.join(dfy, how='inner')\n",
        "dfjoined.head()"
      ],
      "execution_count": 87,
      "outputs": [
        {
          "output_type": "execute_result",
          "data": {
            "text/html": [
              "<div>\n",
              "<style scoped>\n",
              "    .dataframe tbody tr th:only-of-type {\n",
              "        vertical-align: middle;\n",
              "    }\n",
              "\n",
              "    .dataframe tbody tr th {\n",
              "        vertical-align: top;\n",
              "    }\n",
              "\n",
              "    .dataframe thead th {\n",
              "        text-align: right;\n",
              "    }\n",
              "</style>\n",
              "<table border=\"1\" class=\"dataframe\">\n",
              "  <thead>\n",
              "    <tr style=\"text-align: right;\">\n",
              "      <th></th>\n",
              "      <th>10k</th>\n",
              "      <th>name</th>\n",
              "      <th>division</th>\n",
              "      <th>25k</th>\n",
              "      <th>gender</th>\n",
              "      <th>age</th>\n",
              "      <th>official</th>\n",
              "      <th>bib</th>\n",
              "      <th>genderdiv</th>\n",
              "      <th>35k</th>\n",
              "      <th>...</th>\n",
              "      <th>pace</th>\n",
              "      <th>state</th>\n",
              "      <th>30k</th>\n",
              "      <th>5k</th>\n",
              "      <th>half</th>\n",
              "      <th>20k</th>\n",
              "      <th>country</th>\n",
              "      <th>city</th>\n",
              "      <th>40k</th>\n",
              "      <th>cluster</th>\n",
              "    </tr>\n",
              "  </thead>\n",
              "  <tbody>\n",
              "    <tr>\n",
              "      <th>0</th>\n",
              "      <td>17.37</td>\n",
              "      <td>Yamamoto, Hiroyuki</td>\n",
              "      <td>8</td>\n",
              "      <td>47.67</td>\n",
              "      <td>M</td>\n",
              "      <td>47</td>\n",
              "      <td>85.25</td>\n",
              "      <td>W1</td>\n",
              "      <td>8</td>\n",
              "      <td>71.40</td>\n",
              "      <td>...</td>\n",
              "      <td>3.27</td>\n",
              "      <td>NaN</td>\n",
              "      <td>59.18</td>\n",
              "      <td>8.02</td>\n",
              "      <td>39.72</td>\n",
              "      <td>37.65</td>\n",
              "      <td>JPN</td>\n",
              "      <td>Fukuoka</td>\n",
              "      <td>80.43</td>\n",
              "      <td>0</td>\n",
              "    </tr>\n",
              "    <tr>\n",
              "      <th>1</th>\n",
              "      <td>32.58</td>\n",
              "      <td>Jeptoo, Rita</td>\n",
              "      <td>1</td>\n",
              "      <td>82.43</td>\n",
              "      <td>F</td>\n",
              "      <td>33</td>\n",
              "      <td>138.95</td>\n",
              "      <td>F1</td>\n",
              "      <td>1</td>\n",
              "      <td>116.37</td>\n",
              "      <td>...</td>\n",
              "      <td>5.30</td>\n",
              "      <td>NaN</td>\n",
              "      <td>99.33</td>\n",
              "      <td>16.22</td>\n",
              "      <td>69.47</td>\n",
              "      <td>65.83</td>\n",
              "      <td>KEN</td>\n",
              "      <td>Eldoret</td>\n",
              "      <td>132.10</td>\n",
              "      <td>0</td>\n",
              "    </tr>\n",
              "    <tr>\n",
              "      <th>2</th>\n",
              "      <td>16.62</td>\n",
              "      <td>Van Dyk, Ernst F.</td>\n",
              "      <td>1</td>\n",
              "      <td>45.80</td>\n",
              "      <td>M</td>\n",
              "      <td>41</td>\n",
              "      <td>80.60</td>\n",
              "      <td>W2</td>\n",
              "      <td>1</td>\n",
              "      <td>67.42</td>\n",
              "      <td>...</td>\n",
              "      <td>3.08</td>\n",
              "      <td>NaN</td>\n",
              "      <td>56.45</td>\n",
              "      <td>7.75</td>\n",
              "      <td>38.03</td>\n",
              "      <td>36.10</td>\n",
              "      <td>RSA</td>\n",
              "      <td>Paarl</td>\n",
              "      <td>76.10</td>\n",
              "      <td>0</td>\n",
              "    </tr>\n",
              "    <tr>\n",
              "      <th>3</th>\n",
              "      <td>32.57</td>\n",
              "      <td>Dibaba, Mare</td>\n",
              "      <td>3</td>\n",
              "      <td>82.43</td>\n",
              "      <td>F</td>\n",
              "      <td>24</td>\n",
              "      <td>140.58</td>\n",
              "      <td>F2</td>\n",
              "      <td>3</td>\n",
              "      <td>116.37</td>\n",
              "      <td>...</td>\n",
              "      <td>5.37</td>\n",
              "      <td>NaN</td>\n",
              "      <td>99.33</td>\n",
              "      <td>16.20</td>\n",
              "      <td>69.47</td>\n",
              "      <td>65.83</td>\n",
              "      <td>ETH</td>\n",
              "      <td>Shoa</td>\n",
              "      <td>132.95</td>\n",
              "      <td>0</td>\n",
              "    </tr>\n",
              "    <tr>\n",
              "      <th>4</th>\n",
              "      <td>17.12</td>\n",
              "      <td>Hokinoue, Kota</td>\n",
              "      <td>2</td>\n",
              "      <td>46.37</td>\n",
              "      <td>M</td>\n",
              "      <td>40</td>\n",
              "      <td>81.23</td>\n",
              "      <td>W3</td>\n",
              "      <td>2</td>\n",
              "      <td>67.83</td>\n",
              "      <td>...</td>\n",
              "      <td>3.10</td>\n",
              "      <td>NaN</td>\n",
              "      <td>57.03</td>\n",
              "      <td>8.02</td>\n",
              "      <td>38.60</td>\n",
              "      <td>36.58</td>\n",
              "      <td>JPN</td>\n",
              "      <td>Nogata Fukuoka</td>\n",
              "      <td>76.72</td>\n",
              "      <td>0</td>\n",
              "    </tr>\n",
              "  </tbody>\n",
              "</table>\n",
              "<p>5 rows × 21 columns</p>\n",
              "</div>"
            ],
            "text/plain": [
              "     10k                name  division    25k gender  age  official bib  \\\n",
              "0  17.37  Yamamoto, Hiroyuki         8  47.67      M   47     85.25  W1   \n",
              "1  32.58        Jeptoo, Rita         1  82.43      F   33    138.95  F1   \n",
              "2  16.62   Van Dyk, Ernst F.         1  45.80      M   41     80.60  W2   \n",
              "3  32.57        Dibaba, Mare         3  82.43      F   24    140.58  F2   \n",
              "4  17.12      Hokinoue, Kota         2  46.37      M   40     81.23  W3   \n",
              "\n",
              "   genderdiv     35k   ...     pace  state    30k     5k   half    20k  \\\n",
              "0          8   71.40   ...     3.27    NaN  59.18   8.02  39.72  37.65   \n",
              "1          1  116.37   ...     5.30    NaN  99.33  16.22  69.47  65.83   \n",
              "2          1   67.42   ...     3.08    NaN  56.45   7.75  38.03  36.10   \n",
              "3          3  116.37   ...     5.37    NaN  99.33  16.20  69.47  65.83   \n",
              "4          2   67.83   ...     3.10    NaN  57.03   8.02  38.60  36.58   \n",
              "\n",
              "  country            city     40k  cluster  \n",
              "0     JPN         Fukuoka   80.43        0  \n",
              "1     KEN         Eldoret  132.10        0  \n",
              "2     RSA           Paarl   76.10        0  \n",
              "3     ETH            Shoa  132.95        0  \n",
              "4     JPN  Nogata Fukuoka   76.72        0  \n",
              "\n",
              "[5 rows x 21 columns]"
            ]
          },
          "metadata": {
            "tags": []
          },
          "execution_count": 87
        }
      ]
    },
    {
      "metadata": {
        "id": "DBKZoCBb1lik",
        "colab_type": "code",
        "colab": {
          "base_uri": "https://localhost:8080/",
          "height": 297
        },
        "outputId": "5e6dc777-83d7-420b-817d-8e329e70405a"
      },
      "cell_type": "code",
      "source": [
        "dfjoined.groupby(dfjoined.cluster)['5k'].describe().transpose()\n"
      ],
      "execution_count": 88,
      "outputs": [
        {
          "output_type": "execute_result",
          "data": {
            "text/html": [
              "<div>\n",
              "<style scoped>\n",
              "    .dataframe tbody tr th:only-of-type {\n",
              "        vertical-align: middle;\n",
              "    }\n",
              "\n",
              "    .dataframe tbody tr th {\n",
              "        vertical-align: top;\n",
              "    }\n",
              "\n",
              "    .dataframe thead th {\n",
              "        text-align: right;\n",
              "    }\n",
              "</style>\n",
              "<table border=\"1\" class=\"dataframe\">\n",
              "  <thead>\n",
              "    <tr style=\"text-align: right;\">\n",
              "      <th>cluster</th>\n",
              "      <th>0</th>\n",
              "      <th>1</th>\n",
              "    </tr>\n",
              "  </thead>\n",
              "  <tbody>\n",
              "    <tr>\n",
              "      <th>count</th>\n",
              "      <td>21773.000000</td>\n",
              "      <td>9563.000000</td>\n",
              "    </tr>\n",
              "    <tr>\n",
              "      <th>mean</th>\n",
              "      <td>24.976163</td>\n",
              "      <td>27.134959</td>\n",
              "    </tr>\n",
              "    <tr>\n",
              "      <th>std</th>\n",
              "      <td>3.994891</td>\n",
              "      <td>4.279051</td>\n",
              "    </tr>\n",
              "    <tr>\n",
              "      <th>min</th>\n",
              "      <td>7.750000</td>\n",
              "      <td>8.680000</td>\n",
              "    </tr>\n",
              "    <tr>\n",
              "      <th>25%</th>\n",
              "      <td>22.120000</td>\n",
              "      <td>23.980000</td>\n",
              "    </tr>\n",
              "    <tr>\n",
              "      <th>50%</th>\n",
              "      <td>24.380000</td>\n",
              "      <td>26.980000</td>\n",
              "    </tr>\n",
              "    <tr>\n",
              "      <th>75%</th>\n",
              "      <td>27.220000</td>\n",
              "      <td>30.120000</td>\n",
              "    </tr>\n",
              "    <tr>\n",
              "      <th>max</th>\n",
              "      <td>51.980000</td>\n",
              "      <td>86.950000</td>\n",
              "    </tr>\n",
              "  </tbody>\n",
              "</table>\n",
              "</div>"
            ],
            "text/plain": [
              "cluster             0            1\n",
              "count    21773.000000  9563.000000\n",
              "mean        24.976163    27.134959\n",
              "std          3.994891     4.279051\n",
              "min          7.750000     8.680000\n",
              "25%         22.120000    23.980000\n",
              "50%         24.380000    26.980000\n",
              "75%         27.220000    30.120000\n",
              "max         51.980000    86.950000"
            ]
          },
          "metadata": {
            "tags": []
          },
          "execution_count": 88
        }
      ]
    },
    {
      "metadata": {
        "id": "wdzN1ey82BiU",
        "colab_type": "code",
        "colab": {
          "base_uri": "https://localhost:8080/",
          "height": 297
        },
        "outputId": "da095915-eb3a-4c66-822c-f0bbe162998f"
      },
      "cell_type": "code",
      "source": [
        "dfjoined.groupby(dfjoined.cluster)['10k'].describe().transpose()\n"
      ],
      "execution_count": 89,
      "outputs": [
        {
          "output_type": "execute_result",
          "data": {
            "text/html": [
              "<div>\n",
              "<style scoped>\n",
              "    .dataframe tbody tr th:only-of-type {\n",
              "        vertical-align: middle;\n",
              "    }\n",
              "\n",
              "    .dataframe tbody tr th {\n",
              "        vertical-align: top;\n",
              "    }\n",
              "\n",
              "    .dataframe thead th {\n",
              "        text-align: right;\n",
              "    }\n",
              "</style>\n",
              "<table border=\"1\" class=\"dataframe\">\n",
              "  <thead>\n",
              "    <tr style=\"text-align: right;\">\n",
              "      <th>cluster</th>\n",
              "      <th>0</th>\n",
              "      <th>1</th>\n",
              "    </tr>\n",
              "  </thead>\n",
              "  <tbody>\n",
              "    <tr>\n",
              "      <th>count</th>\n",
              "      <td>21773.000000</td>\n",
              "      <td>9563.000000</td>\n",
              "    </tr>\n",
              "    <tr>\n",
              "      <th>mean</th>\n",
              "      <td>50.182225</td>\n",
              "      <td>54.622383</td>\n",
              "    </tr>\n",
              "    <tr>\n",
              "      <th>std</th>\n",
              "      <td>8.244775</td>\n",
              "      <td>8.854807</td>\n",
              "    </tr>\n",
              "    <tr>\n",
              "      <th>min</th>\n",
              "      <td>16.620000</td>\n",
              "      <td>18.300000</td>\n",
              "    </tr>\n",
              "    <tr>\n",
              "      <th>25%</th>\n",
              "      <td>44.320000</td>\n",
              "      <td>48.110000</td>\n",
              "    </tr>\n",
              "    <tr>\n",
              "      <th>50%</th>\n",
              "      <td>48.970000</td>\n",
              "      <td>54.070000</td>\n",
              "    </tr>\n",
              "    <tr>\n",
              "      <th>75%</th>\n",
              "      <td>54.770000</td>\n",
              "      <td>60.680000</td>\n",
              "    </tr>\n",
              "    <tr>\n",
              "      <th>max</th>\n",
              "      <td>102.820000</td>\n",
              "      <td>112.380000</td>\n",
              "    </tr>\n",
              "  </tbody>\n",
              "</table>\n",
              "</div>"
            ],
            "text/plain": [
              "cluster             0            1\n",
              "count    21773.000000  9563.000000\n",
              "mean        50.182225    54.622383\n",
              "std          8.244775     8.854807\n",
              "min         16.620000    18.300000\n",
              "25%         44.320000    48.110000\n",
              "50%         48.970000    54.070000\n",
              "75%         54.770000    60.680000\n",
              "max        102.820000   112.380000"
            ]
          },
          "metadata": {
            "tags": []
          },
          "execution_count": 89
        }
      ]
    },
    {
      "metadata": {
        "id": "uyTl0Isg4Tw-",
        "colab_type": "code",
        "colab": {
          "base_uri": "https://localhost:8080/",
          "height": 297
        },
        "outputId": "cc1425b1-0b7b-4cb1-bd39-561c558df822"
      },
      "cell_type": "code",
      "source": [
        "dfjoined.groupby(dfjoined.cluster)['half'].describe().transpose()\n"
      ],
      "execution_count": 90,
      "outputs": [
        {
          "output_type": "execute_result",
          "data": {
            "text/html": [
              "<div>\n",
              "<style scoped>\n",
              "    .dataframe tbody tr th:only-of-type {\n",
              "        vertical-align: middle;\n",
              "    }\n",
              "\n",
              "    .dataframe tbody tr th {\n",
              "        vertical-align: top;\n",
              "    }\n",
              "\n",
              "    .dataframe thead th {\n",
              "        text-align: right;\n",
              "    }\n",
              "</style>\n",
              "<table border=\"1\" class=\"dataframe\">\n",
              "  <thead>\n",
              "    <tr style=\"text-align: right;\">\n",
              "      <th>cluster</th>\n",
              "      <th>0</th>\n",
              "      <th>1</th>\n",
              "    </tr>\n",
              "  </thead>\n",
              "  <tbody>\n",
              "    <tr>\n",
              "      <th>count</th>\n",
              "      <td>21773.000000</td>\n",
              "      <td>9563.000000</td>\n",
              "    </tr>\n",
              "    <tr>\n",
              "      <th>mean</th>\n",
              "      <td>107.881739</td>\n",
              "      <td>118.114868</td>\n",
              "    </tr>\n",
              "    <tr>\n",
              "      <th>std</th>\n",
              "      <td>19.104872</td>\n",
              "      <td>20.924564</td>\n",
              "    </tr>\n",
              "    <tr>\n",
              "      <th>min</th>\n",
              "      <td>38.030000</td>\n",
              "      <td>43.170000</td>\n",
              "    </tr>\n",
              "    <tr>\n",
              "      <th>25%</th>\n",
              "      <td>94.520000</td>\n",
              "      <td>102.700000</td>\n",
              "    </tr>\n",
              "    <tr>\n",
              "      <th>50%</th>\n",
              "      <td>104.720000</td>\n",
              "      <td>115.820000</td>\n",
              "    </tr>\n",
              "    <tr>\n",
              "      <th>75%</th>\n",
              "      <td>117.570000</td>\n",
              "      <td>131.540000</td>\n",
              "    </tr>\n",
              "    <tr>\n",
              "      <th>max</th>\n",
              "      <td>236.670000</td>\n",
              "      <td>222.070000</td>\n",
              "    </tr>\n",
              "  </tbody>\n",
              "</table>\n",
              "</div>"
            ],
            "text/plain": [
              "cluster             0            1\n",
              "count    21773.000000  9563.000000\n",
              "mean       107.881739   118.114868\n",
              "std         19.104872    20.924564\n",
              "min         38.030000    43.170000\n",
              "25%         94.520000   102.700000\n",
              "50%        104.720000   115.820000\n",
              "75%        117.570000   131.540000\n",
              "max        236.670000   222.070000"
            ]
          },
          "metadata": {
            "tags": []
          },
          "execution_count": 90
        }
      ]
    },
    {
      "metadata": {
        "id": "ry9O-OVQ3Fvs",
        "colab_type": "code",
        "colab": {
          "base_uri": "https://localhost:8080/",
          "height": 297
        },
        "outputId": "50dda8f5-9021-4ca0-8801-3e9ee60a32fe"
      },
      "cell_type": "code",
      "source": [
        "dfjoined.groupby(dfjoined.cluster)['25k'].describe().transpose()\n"
      ],
      "execution_count": 91,
      "outputs": [
        {
          "output_type": "execute_result",
          "data": {
            "text/html": [
              "<div>\n",
              "<style scoped>\n",
              "    .dataframe tbody tr th:only-of-type {\n",
              "        vertical-align: middle;\n",
              "    }\n",
              "\n",
              "    .dataframe tbody tr th {\n",
              "        vertical-align: top;\n",
              "    }\n",
              "\n",
              "    .dataframe thead th {\n",
              "        text-align: right;\n",
              "    }\n",
              "</style>\n",
              "<table border=\"1\" class=\"dataframe\">\n",
              "  <thead>\n",
              "    <tr style=\"text-align: right;\">\n",
              "      <th>cluster</th>\n",
              "      <th>0</th>\n",
              "      <th>1</th>\n",
              "    </tr>\n",
              "  </thead>\n",
              "  <tbody>\n",
              "    <tr>\n",
              "      <th>count</th>\n",
              "      <td>21773.000000</td>\n",
              "      <td>9563.000000</td>\n",
              "    </tr>\n",
              "    <tr>\n",
              "      <th>mean</th>\n",
              "      <td>129.406417</td>\n",
              "      <td>142.241298</td>\n",
              "    </tr>\n",
              "    <tr>\n",
              "      <th>std</th>\n",
              "      <td>24.001578</td>\n",
              "      <td>26.489145</td>\n",
              "    </tr>\n",
              "    <tr>\n",
              "      <th>min</th>\n",
              "      <td>45.800000</td>\n",
              "      <td>52.900000</td>\n",
              "    </tr>\n",
              "    <tr>\n",
              "      <th>25%</th>\n",
              "      <td>112.730000</td>\n",
              "      <td>122.640000</td>\n",
              "    </tr>\n",
              "    <tr>\n",
              "      <th>50%</th>\n",
              "      <td>125.070000</td>\n",
              "      <td>138.920000</td>\n",
              "    </tr>\n",
              "    <tr>\n",
              "      <th>75%</th>\n",
              "      <td>141.170000</td>\n",
              "      <td>158.870000</td>\n",
              "    </tr>\n",
              "    <tr>\n",
              "      <th>max</th>\n",
              "      <td>289.020000</td>\n",
              "      <td>281.850000</td>\n",
              "    </tr>\n",
              "  </tbody>\n",
              "</table>\n",
              "</div>"
            ],
            "text/plain": [
              "cluster             0            1\n",
              "count    21773.000000  9563.000000\n",
              "mean       129.406417   142.241298\n",
              "std         24.001578    26.489145\n",
              "min         45.800000    52.900000\n",
              "25%        112.730000   122.640000\n",
              "50%        125.070000   138.920000\n",
              "75%        141.170000   158.870000\n",
              "max        289.020000   281.850000"
            ]
          },
          "metadata": {
            "tags": []
          },
          "execution_count": 91
        }
      ]
    },
    {
      "metadata": {
        "id": "Eiqeb1t_3b07",
        "colab_type": "code",
        "colab": {
          "base_uri": "https://localhost:8080/",
          "height": 297
        },
        "outputId": "a7836e1e-dce8-4d42-e767-4b9ce4815699"
      },
      "cell_type": "code",
      "source": [
        "dfjoined.groupby(dfjoined.cluster)['30k'].describe().transpose()\n"
      ],
      "execution_count": 92,
      "outputs": [
        {
          "output_type": "execute_result",
          "data": {
            "text/html": [
              "<div>\n",
              "<style scoped>\n",
              "    .dataframe tbody tr th:only-of-type {\n",
              "        vertical-align: middle;\n",
              "    }\n",
              "\n",
              "    .dataframe tbody tr th {\n",
              "        vertical-align: top;\n",
              "    }\n",
              "\n",
              "    .dataframe thead th {\n",
              "        text-align: right;\n",
              "    }\n",
              "</style>\n",
              "<table border=\"1\" class=\"dataframe\">\n",
              "  <thead>\n",
              "    <tr style=\"text-align: right;\">\n",
              "      <th>cluster</th>\n",
              "      <th>0</th>\n",
              "      <th>1</th>\n",
              "    </tr>\n",
              "  </thead>\n",
              "  <tbody>\n",
              "    <tr>\n",
              "      <th>count</th>\n",
              "      <td>21773.000000</td>\n",
              "      <td>9563.000000</td>\n",
              "    </tr>\n",
              "    <tr>\n",
              "      <th>mean</th>\n",
              "      <td>158.525681</td>\n",
              "      <td>175.042862</td>\n",
              "    </tr>\n",
              "    <tr>\n",
              "      <th>std</th>\n",
              "      <td>30.828175</td>\n",
              "      <td>34.169610</td>\n",
              "    </tr>\n",
              "    <tr>\n",
              "      <th>min</th>\n",
              "      <td>56.450000</td>\n",
              "      <td>67.120000</td>\n",
              "    </tr>\n",
              "    <tr>\n",
              "      <th>25%</th>\n",
              "      <td>137.130000</td>\n",
              "      <td>149.360000</td>\n",
              "    </tr>\n",
              "    <tr>\n",
              "      <th>50%</th>\n",
              "      <td>152.650000</td>\n",
              "      <td>170.120000</td>\n",
              "    </tr>\n",
              "    <tr>\n",
              "      <th>75%</th>\n",
              "      <td>173.450000</td>\n",
              "      <td>196.675000</td>\n",
              "    </tr>\n",
              "    <tr>\n",
              "      <th>max</th>\n",
              "      <td>367.200000</td>\n",
              "      <td>376.380000</td>\n",
              "    </tr>\n",
              "  </tbody>\n",
              "</table>\n",
              "</div>"
            ],
            "text/plain": [
              "cluster             0            1\n",
              "count    21773.000000  9563.000000\n",
              "mean       158.525681   175.042862\n",
              "std         30.828175    34.169610\n",
              "min         56.450000    67.120000\n",
              "25%        137.130000   149.360000\n",
              "50%        152.650000   170.120000\n",
              "75%        173.450000   196.675000\n",
              "max        367.200000   376.380000"
            ]
          },
          "metadata": {
            "tags": []
          },
          "execution_count": 92
        }
      ]
    },
    {
      "metadata": {
        "id": "F0bEa2pf3d9d",
        "colab_type": "code",
        "colab": {
          "base_uri": "https://localhost:8080/",
          "height": 297
        },
        "outputId": "29a7069a-416c-4701-816e-d046d9012d3b"
      },
      "cell_type": "code",
      "source": [
        "dfjoined.groupby(dfjoined.cluster)['35k'].describe().transpose()\n"
      ],
      "execution_count": 93,
      "outputs": [
        {
          "output_type": "execute_result",
          "data": {
            "text/html": [
              "<div>\n",
              "<style scoped>\n",
              "    .dataframe tbody tr th:only-of-type {\n",
              "        vertical-align: middle;\n",
              "    }\n",
              "\n",
              "    .dataframe tbody tr th {\n",
              "        vertical-align: top;\n",
              "    }\n",
              "\n",
              "    .dataframe thead th {\n",
              "        text-align: right;\n",
              "    }\n",
              "</style>\n",
              "<table border=\"1\" class=\"dataframe\">\n",
              "  <thead>\n",
              "    <tr style=\"text-align: right;\">\n",
              "      <th>cluster</th>\n",
              "      <th>0</th>\n",
              "      <th>1</th>\n",
              "    </tr>\n",
              "  </thead>\n",
              "  <tbody>\n",
              "    <tr>\n",
              "      <th>count</th>\n",
              "      <td>21773.000000</td>\n",
              "      <td>9563.000000</td>\n",
              "    </tr>\n",
              "    <tr>\n",
              "      <th>mean</th>\n",
              "      <td>189.379670</td>\n",
              "      <td>209.859827</td>\n",
              "    </tr>\n",
              "    <tr>\n",
              "      <th>std</th>\n",
              "      <td>38.285666</td>\n",
              "      <td>42.247333</td>\n",
              "    </tr>\n",
              "    <tr>\n",
              "      <th>min</th>\n",
              "      <td>67.420000</td>\n",
              "      <td>81.770000</td>\n",
              "    </tr>\n",
              "    <tr>\n",
              "      <th>25%</th>\n",
              "      <td>162.980000</td>\n",
              "      <td>177.715000</td>\n",
              "    </tr>\n",
              "    <tr>\n",
              "      <th>50%</th>\n",
              "      <td>181.820000</td>\n",
              "      <td>203.470000</td>\n",
              "    </tr>\n",
              "    <tr>\n",
              "      <th>75%</th>\n",
              "      <td>208.320000</td>\n",
              "      <td>237.140000</td>\n",
              "    </tr>\n",
              "    <tr>\n",
              "      <th>max</th>\n",
              "      <td>439.820000</td>\n",
              "      <td>449.330000</td>\n",
              "    </tr>\n",
              "  </tbody>\n",
              "</table>\n",
              "</div>"
            ],
            "text/plain": [
              "cluster             0            1\n",
              "count    21773.000000  9563.000000\n",
              "mean       189.379670   209.859827\n",
              "std         38.285666    42.247333\n",
              "min         67.420000    81.770000\n",
              "25%        162.980000   177.715000\n",
              "50%        181.820000   203.470000\n",
              "75%        208.320000   237.140000\n",
              "max        439.820000   449.330000"
            ]
          },
          "metadata": {
            "tags": []
          },
          "execution_count": 93
        }
      ]
    },
    {
      "metadata": {
        "id": "ur3UsOhY3d_u",
        "colab_type": "code",
        "colab": {
          "base_uri": "https://localhost:8080/",
          "height": 297
        },
        "outputId": "006a89f7-d696-40c2-f741-3396883a5959"
      },
      "cell_type": "code",
      "source": [
        "dfjoined.groupby(dfjoined.cluster)['40k'].describe().transpose()\n"
      ],
      "execution_count": 94,
      "outputs": [
        {
          "output_type": "execute_result",
          "data": {
            "text/html": [
              "<div>\n",
              "<style scoped>\n",
              "    .dataframe tbody tr th:only-of-type {\n",
              "        vertical-align: middle;\n",
              "    }\n",
              "\n",
              "    .dataframe tbody tr th {\n",
              "        vertical-align: top;\n",
              "    }\n",
              "\n",
              "    .dataframe thead th {\n",
              "        text-align: right;\n",
              "    }\n",
              "</style>\n",
              "<table border=\"1\" class=\"dataframe\">\n",
              "  <thead>\n",
              "    <tr style=\"text-align: right;\">\n",
              "      <th>cluster</th>\n",
              "      <th>0</th>\n",
              "      <th>1</th>\n",
              "    </tr>\n",
              "  </thead>\n",
              "  <tbody>\n",
              "    <tr>\n",
              "      <th>count</th>\n",
              "      <td>21773.000000</td>\n",
              "      <td>9563.000000</td>\n",
              "    </tr>\n",
              "    <tr>\n",
              "      <th>mean</th>\n",
              "      <td>220.367359</td>\n",
              "      <td>244.454448</td>\n",
              "    </tr>\n",
              "    <tr>\n",
              "      <th>std</th>\n",
              "      <td>45.279416</td>\n",
              "      <td>49.561433</td>\n",
              "    </tr>\n",
              "    <tr>\n",
              "      <th>min</th>\n",
              "      <td>76.100000</td>\n",
              "      <td>92.870000</td>\n",
              "    </tr>\n",
              "    <tr>\n",
              "      <th>25%</th>\n",
              "      <td>189.130000</td>\n",
              "      <td>206.110000</td>\n",
              "    </tr>\n",
              "    <tr>\n",
              "      <th>50%</th>\n",
              "      <td>211.370000</td>\n",
              "      <td>237.850000</td>\n",
              "    </tr>\n",
              "    <tr>\n",
              "      <th>75%</th>\n",
              "      <td>243.820000</td>\n",
              "      <td>277.210000</td>\n",
              "    </tr>\n",
              "    <tr>\n",
              "      <th>max</th>\n",
              "      <td>508.170000</td>\n",
              "      <td>508.350000</td>\n",
              "    </tr>\n",
              "  </tbody>\n",
              "</table>\n",
              "</div>"
            ],
            "text/plain": [
              "cluster             0            1\n",
              "count    21773.000000  9563.000000\n",
              "mean       220.367359   244.454448\n",
              "std         45.279416    49.561433\n",
              "min         76.100000    92.870000\n",
              "25%        189.130000   206.110000\n",
              "50%        211.370000   237.850000\n",
              "75%        243.820000   277.210000\n",
              "max        508.170000   508.350000"
            ]
          },
          "metadata": {
            "tags": []
          },
          "execution_count": 94
        }
      ]
    },
    {
      "metadata": {
        "id": "8ucWV4hA3eF9",
        "colab_type": "code",
        "colab": {
          "base_uri": "https://localhost:8080/",
          "height": 265
        },
        "outputId": "15afc2a7-6177-4118-e7a4-bac24b7c3b60"
      },
      "cell_type": "code",
      "source": [
        "x=['5k', '10k', 'half', '25k', '30k', '35k', '40k']\n",
        "y0=[]\n",
        "y1=[]\n",
        "for entry in x:\n",
        "  y0.append(dfjoined[dfjoined.cluster==0][entry].mean())\n",
        "  y1.append(dfjoined[dfjoined.cluster==1][entry].mean())\n",
        "  \n",
        "s = pd.Series(y0, index=x)\n",
        "s1 = pd.Series(y1, index=x)\n",
        "s.plot(kind='line', rot=0,label='Cluster 0')\n",
        "s1.plot(kind='line', rot=0, label='Cluster 1')\n",
        "plt.legend(loc='lower right')\n",
        "plt.xticks(index, x)\n",
        "plt.show()"
      ],
      "execution_count": 109,
      "outputs": [
        {
          "output_type": "display_data",
          "data": {
            "image/png": "[encoded data removed]",
            "text/plain": [
              "<matplotlib.figure.Figure at 0x7f2bbaae39e8>"
            ]
          },
          "metadata": {
            "tags": []
          }
        }
      ]
    },
    {
      "metadata": {
        "id": "triHwI6Q3eIE",
        "colab_type": "code",
        "colab": {}
      },
      "cell_type": "code",
      "source": [
        ""
      ],
      "execution_count": 0,
      "outputs": []
    },
    {
      "metadata": {
        "id": "K-c6JGeNCOh3",
        "colab_type": "text"
      },
      "cell_type": "markdown",
      "source": [
        "Conclusion: It seems that the runners in cluster 0 are significantly faster runners in all categories."
      ]
    },
    {
      "metadata": {
        "id": "GQnY2gKw3eKS",
        "colab_type": "code",
        "colab": {}
      },
      "cell_type": "code",
      "source": [
        ""
      ],
      "execution_count": 0,
      "outputs": []
    },
    {
      "metadata": {
        "id": "ewhcB-VB3eMY",
        "colab_type": "code",
        "colab": {}
      },
      "cell_type": "code",
      "source": [
        ""
      ],
      "execution_count": 0,
      "outputs": []
    },
    {
      "metadata": {
        "id": "YFAB5v9T3eOm",
        "colab_type": "code",
        "colab": {}
      },
      "cell_type": "code",
      "source": [
        ""
      ],
      "execution_count": 0,
      "outputs": []
    },
    {
      "metadata": {
        "id": "RjFy1cC-3eRG",
        "colab_type": "code",
        "colab": {}
      },
      "cell_type": "code",
      "source": [
        ""
      ],
      "execution_count": 0,
      "outputs": []
    },
    {
      "metadata": {
        "id": "spY8g8Wp3eTA",
        "colab_type": "code",
        "colab": {}
      },
      "cell_type": "code",
      "source": [
        ""
      ],
      "execution_count": 0,
      "outputs": []
    },
    {
      "metadata": {
        "id": "_8X8bPvi3eVV",
        "colab_type": "code",
        "colab": {}
      },
      "cell_type": "code",
      "source": [
        ""
      ],
      "execution_count": 0,
      "outputs": []
    },
    {
      "metadata": {
        "id": "pHuldS233eXl",
        "colab_type": "code",
        "colab": {}
      },
      "cell_type": "code",
      "source": [
        ""
      ],
      "execution_count": 0,
      "outputs": []
    }
  ]
}